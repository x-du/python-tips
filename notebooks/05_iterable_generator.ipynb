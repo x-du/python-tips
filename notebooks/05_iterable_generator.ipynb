{
 "cells": [
  {
   "cell_type": "markdown",
   "id": "c725e977-0476-4f4b-a3bd-52cb79511faf",
   "metadata": {},
   "source": [
    "## Python Iterables and Generators\n",
    "\n",
    "### Overview\n",
    "\n",
    "In Python, iterables and generators are essential components for handling sequences of data. Understanding how to work with iterables and generators can greatly enhance your ability to write efficient and readable code.\n",
    "\n",
    "### Iterables\n",
    "\n",
    "#### What is an Iterable?\n",
    "\n",
    "An iterable is any Python object capable of returning its elements one at a time, allowing it to be iterated over in a loop. Examples of iterables include lists, tuples, dictionaries, sets, and strings. Any object that implements the `__iter__` method or the `__getitem__` method can be considered an iterable.\n",
    "\n",
    "#### Basic Usage of Iterables\n",
    "\n",
    "1. **Iterating Over a List**:\n",
    "\n",
    "    ```python\n",
    "    numbers = [1, 2, 3, 4, 5]\n",
    "    for number in numbers:\n",
    "        print(number)\n",
    "    ```\n",
    "\n",
    "2. **Iterating Over a Dictionary**:\n",
    "\n",
    "    ```python\n",
    "    student_grades = {\"Alice\": 90, \"Bob\": 85, \"Charlie\": 92}\n",
    "    for student, grade in student_grades.items():\n",
    "        print(f\"{student}: {grade}\")\n",
    "    ```\n",
    "\n",
    "3. **Iterating Over a String**:\n",
    "\n",
    "    ```python\n",
    "    message = \"Hello, World!\"\n",
    "    for char in message:\n",
    "        print(char)\n",
    "    ```\n",
    "\n",
    "#### Creating Custom Iterables\n",
    "\n",
    "You can create custom iterables by defining a class that implements the `__iter__` and `__next__` methods.\n",
    "\n",
    "```python\n",
    "class Countdown:\n",
    "    def __init__(self, start):\n",
    "        self.current = start\n",
    "\n",
    "    def __iter__(self):\n",
    "        return self\n",
    "\n",
    "    def __next__(self):\n",
    "        if self.current <= 0:\n",
    "            raise StopIteration\n",
    "        else:\n",
    "            self.current -= 1\n",
    "            return self.current\n",
    "\n",
    "countdown = Countdown(5)\n",
    "for number in countdown:\n",
    "    print(number)\n",
    "```\n",
    "\n",
    "### Generators\n",
    "\n",
    "#### What is a Generator?\n",
    "\n",
    "A generator is a special type of iterable that allows you to iterate over a sequence of values lazily. Generators are created using functions and the yield statement. Unlike normal functions that return a single value, generators yield a series of values, pausing after each yield and resuming from where they left off.\n",
    "\n",
    "Creating Generators\n",
    "\n",
    "1. Simple Generator Function:\n",
    "\n",
    "```python\n",
    "def countdown(start):\n",
    "    current = start\n",
    "    while current > 0:\n",
    "        yield current\n",
    "        current -= 1\n",
    "\n",
    "for number in countdown(5):\n",
    "    print(number)\n",
    "```\n",
    "\n",
    "2. Generator Expression:\n",
    "\n",
    "```python\n",
    "\n",
    "squares = (x ** 2 for x in range(10))\n",
    "for square in squares:\n",
    "    print(square)\n",
    "```\n",
    "\n",
    "#### Benefits of Generators\n",
    "\n",
    "- Memory Efficiency: Generators yield items one at a time, which makes them more memory efficient than lists, especially for large datasets.\n",
    "- Lazy Evaluation: Generators compute values on-the-fly, which means they only generate values when needed.\n",
    "- Readable Code: Generators can simplify your code and make it more readable by abstracting the iteration logic.\n"
   ]
  },
  {
   "cell_type": "markdown",
   "id": "dde2844c-aa30-471b-aa60-05fe6cd54e03",
   "metadata": {},
   "source": [
    "## Examples"
   ]
  },
  {
   "cell_type": "markdown",
   "id": "4b6e8c9c-90e9-4d25-8e2d-4c952f77a3e0",
   "metadata": {},
   "source": [
    "### Reading Large Files\n"
   ]
  },
  {
   "cell_type": "code",
   "execution_count": null,
   "id": "e5b25fbb-cfad-40c2-8a27-6e25dc5578b8",
   "metadata": {},
   "outputs": [],
   "source": [
    "def read_large_file(file_path):\n",
    "    with open(file_path) as file:\n",
    "        for line in file:\n",
    "            yield line.strip()\n",
    "\n",
    "for line in read_large_file(\"01_reduce.ipynb\"):\n",
    "    print(line)\n"
   ]
  },
  {
   "cell_type": "markdown",
   "id": "efdebc6a-43d5-49af-a75a-b7740f6cf097",
   "metadata": {},
   "source": [
    "### Generating Infinite Sequences"
   ]
  },
  {
   "cell_type": "code",
   "execution_count": null,
   "id": "81a2df62-377f-472f-9e8a-9fd19cc3ac8a",
   "metadata": {},
   "outputs": [],
   "source": [
    "def infinite_sequence():\n",
    "    num = 0\n",
    "    while True:\n",
    "        yield num\n",
    "        num += 1\n",
    "\n",
    "for number in infinite_sequence():\n",
    "    if number > 10:\n",
    "        break\n",
    "    print(number)\n"
   ]
  },
  {
   "cell_type": "markdown",
   "id": "4a09ebce-f92b-41ab-88d5-5199003a59be",
   "metadata": {},
   "source": [
    "## Additional Resources\n",
    "\n",
    "- [Python Generators Documentation](https://docs.python.org/3/howto/functional.html#generators)\n",
    "- [Python Iterators Documentation](https://docs.python.org/3/library/stdtypes.html#typeiter)\n"
   ]
  },
  {
   "cell_type": "code",
   "execution_count": null,
   "id": "5e58a476-2527-44bc-b29f-e086be634e36",
   "metadata": {},
   "outputs": [],
   "source": []
  }
 ],
 "metadata": {
  "kernelspec": {
   "display_name": "Python 3 (ipykernel)",
   "language": "python",
   "name": "python3"
  },
  "language_info": {
   "codemirror_mode": {
    "name": "ipython",
    "version": 3
   },
   "file_extension": ".py",
   "mimetype": "text/x-python",
   "name": "python",
   "nbconvert_exporter": "python",
   "pygments_lexer": "ipython3",
   "version": "3.10.13"
  }
 },
 "nbformat": 4,
 "nbformat_minor": 5
}
