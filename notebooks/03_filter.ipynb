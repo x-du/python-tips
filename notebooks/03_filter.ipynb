{
 "cells": [
  {
   "cell_type": "markdown",
   "id": "0b6a1b57-6a50-4e17-b0bf-60c32ded6baf",
   "metadata": {},
   "source": [
    "## Introduction\n",
    "\n",
    "### Overview of `filter`\n",
    "\n",
    "The `filter` function in Python is a built-in function that constructs an iterator from elements of an iterable for which a function returns true. It is used to filter elements from a sequence based on a condition.\n",
    "\n",
    "The basic syntax of `filter` is:\n",
    "\n",
    "```python\n",
    "filter(function, iterable)\n",
    "```\n",
    "\n",
    "Where function is a function that tests if each element of an iterable returns true or false, and iterable is the iterable to be filtered.\n",
    "\n",
    "### Importance of filter\n",
    "\n",
    "The filter function is particularly useful for extracting elements from a list, tuple, or other iterable based on a condition, without the need for complex loops and conditionals.\n",
    "\n",
    "## Examples\n",
    "\n",
    "\n",
    "\n"
   ]
  },
  {
   "cell_type": "markdown",
   "id": "80f14b75-e3dd-441b-b175-1d4694ef3bc3",
   "metadata": {},
   "source": [
    "### Filter Even Numbers: Filtering even numbers from a list."
   ]
  },
  {
   "cell_type": "code",
   "execution_count": null,
   "id": "616ab789-6a31-432a-8936-cfaf774f785a",
   "metadata": {},
   "outputs": [],
   "source": [
    "numbers = [1, 2, 3, 4, 5, 6, 7, 8, 9, 10]\n",
    "even_numbers = filter(lambda x: x % 2 == 0, numbers)\n",
    "print(list(even_numbers))  # Output: [2, 4, 6, 8, 10]"
   ]
  },
  {
   "cell_type": "markdown",
   "id": "096158ea-9ecd-4fdb-bb03-cf6908922fb9",
   "metadata": {},
   "source": [
    "### Filter Strings by Length: Filtering strings that are longer than 3 characters."
   ]
  },
  {
   "cell_type": "code",
   "execution_count": null,
   "id": "89a19ba0-6ef1-4662-a556-d0717c87f15c",
   "metadata": {},
   "outputs": [],
   "source": [
    "strings = [\"apple\", \"an\", \"banana\", \"cat\", \"dog\"]\n",
    "long_strings = filter(lambda x: len(x) > 3, strings)\n",
    "print(list(long_strings))  # Output: ['apple', 'banana']"
   ]
  },
  {
   "cell_type": "markdown",
   "id": "ff586e81-c8aa-4b05-924c-3c38a6b6b8f3",
   "metadata": {},
   "source": [
    "### Filter Non-Zero Elements: Filtering out zero elements from a list.\n"
   ]
  },
  {
   "cell_type": "code",
   "execution_count": null,
   "id": "8c2a4ec2-2893-4bfb-9102-adfcc211b554",
   "metadata": {},
   "outputs": [],
   "source": [
    "numbers = [0, 1, 2, 0, 3, 4, 0, 5]\n",
    "non_zero_numbers = filter(lambda x: x != 0, numbers)\n",
    "print(list(non_zero_numbers))  # Output: [1, 2, 3, 4, 5]"
   ]
  },
  {
   "cell_type": "markdown",
   "id": "9a032a02-b800-4629-844f-196983c3a7a5",
   "metadata": {},
   "source": [
    "### Filter Odd Indexed Elements\n",
    "Using filter with enumerate to filter elements at odd indices."
   ]
  },
  {
   "cell_type": "code",
   "execution_count": null,
   "id": "29598850-5ef3-4341-9a6e-48f8c6c4146a",
   "metadata": {},
   "outputs": [],
   "source": [
    "numbers = [10, 20, 30, 40, 50, 60, 70]\n",
    "odd_indexed_elements = filter(lambda x: x[0] % 2 != 0, enumerate(numbers))\n",
    "print([x[1] for x in odd_indexed_elements])  # Output: [20, 40, 60]\n"
   ]
  },
  {
   "cell_type": "markdown",
   "id": "04462dad-ff9b-4c47-91fe-9d05f7b349d3",
   "metadata": {},
   "source": [
    "### Filter Dictionaries by Key Value\n",
    "Using filter to get dictionaries where the 'age' key is greater than 30."
   ]
  },
  {
   "cell_type": "code",
   "execution_count": null,
   "id": "2cb80834-95a8-4dc1-8f72-a4f5dea72638",
   "metadata": {},
   "outputs": [],
   "source": [
    "people = [\n",
    "    {\"name\": \"Alice\", \"age\": 25},\n",
    "    {\"name\": \"Bob\", \"age\": 35},\n",
    "    {\"name\": \"Charlie\", \"age\": 30},\n",
    "    {\"name\": \"David\", \"age\": 40}\n",
    "]\n",
    "above_30 = filter(lambda x: x['age'] > 30, people)\n",
    "print(list(above_30))  # Output: [{'name': 'Bob', 'age': 35}, {'name': 'David', 'age': 40}]\n"
   ]
  },
  {
   "cell_type": "markdown",
   "id": "552b12e0-f94a-4892-bd34-530cb940210c",
   "metadata": {},
   "source": [
    "### Filter Elements in Multiple Lists\n",
    "Using filter with zip to filter elements greater than 5 in multiple lists."
   ]
  },
  {
   "cell_type": "code",
   "execution_count": null,
   "id": "5d4d9824-ce20-43d0-ab50-8d6911ff0325",
   "metadata": {},
   "outputs": [],
   "source": [
    "list1 = [1, 2, 3, 6, 7]\n",
    "list2 = [4, 5, 6, 7, 8]\n",
    "filtered = filter(lambda x: x[0] > 5 and x[1] > 5, zip(list1, list2))\n",
    "print(list(filtered))  # Output: [(6, 7), (7, 8)]\n"
   ]
  },
  {
   "cell_type": "markdown",
   "id": "36b8e36c-1dfe-405b-b6f1-ad39e6cdc724",
   "metadata": {},
   "source": [
    "### Filter Prime Numbers\n",
    "Using filter to get prime numbers from a list."
   ]
  },
  {
   "cell_type": "code",
   "execution_count": null,
   "id": "1e511e14-5448-4432-b297-902dbb8e5715",
   "metadata": {},
   "outputs": [],
   "source": [
    "def is_prime(n):\n",
    "    if n <= 1:\n",
    "        return False\n",
    "    for i in range(2, int(n ** 0.5) + 1):\n",
    "        if n % i == 0:\n",
    "            return False\n",
    "    return True\n",
    "\n",
    "numbers = list(range(20))\n",
    "prime_numbers = filter(is_prime, numbers)\n",
    "print(list(prime_numbers))  # Output: [2, 3, 5, 7, 11, 13, 17, 19]\n"
   ]
  },
  {
   "cell_type": "markdown",
   "id": "6d14bcd5-cab1-43d0-b885-3734acf1b90b",
   "metadata": {},
   "source": [
    "\n",
    "## Additional Resources\n",
    "\n",
    "- [Python `filter` Function Documentation](https://docs.python.org/3/library/functions.html#filter)\n",
    "- [Lambda Expressions in Python](https://docs.python.org/3/tutorial/controlflow.html#lambda-expressions)"
   ]
  },
  {
   "cell_type": "code",
   "execution_count": null,
   "id": "d77feb92-1bca-444c-a356-e5b17fc11179",
   "metadata": {},
   "outputs": [],
   "source": []
  }
 ],
 "metadata": {
  "kernelspec": {
   "display_name": "Python 3 (ipykernel)",
   "language": "python",
   "name": "python3"
  },
  "language_info": {
   "codemirror_mode": {
    "name": "ipython",
    "version": 3
   },
   "file_extension": ".py",
   "mimetype": "text/x-python",
   "name": "python",
   "nbconvert_exporter": "python",
   "pygments_lexer": "ipython3",
   "version": "3.10.13"
  }
 },
 "nbformat": 4,
 "nbformat_minor": 5
}
