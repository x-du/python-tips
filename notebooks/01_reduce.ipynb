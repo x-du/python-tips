{
 "cells": [
  {
   "cell_type": "markdown",
   "id": "55953d97-c19f-4cd7-9d66-20e65969638b",
   "metadata": {},
   "source": [
    "# Introduction\n",
    "\n",
    "## Overview of reduce\n",
    "The reduce function is a powerful tool in Python’s `functools` module, designed to apply a rolling computation to sequential pairs of values in an iterable. Originating from the realm of functional programming, reduce repeatedly applies a specified function to the elements of an iterable, cumulatively reducing the iterable to a single value.\n",
    "\n",
    "## What is reduce?\n",
    "\n",
    "In simple terms, reduce takes a function and a sequence of elements, and it applies the function to the first two elements, then to the result and the third element, and so on, until the sequence is reduced to a single cumulative value. The basic syntax of reduce is:\n",
    "```python\n",
    "\n",
    "from functools import reduce\n",
    "result = reduce(function, iterable, initializer)\n",
    "\n",
    "```\n",
    "\n",
    "Here, function is a binary function (a function that takes two arguments), iterable is the sequence of elements to be reduced, and initializer is an optional starting value.\n",
    "\n",
    "## Why Use reduce?\n",
    "reduce is especially useful for scenarios where you need to aggregate or combine elements in a sequence. Some common use cases include:\n",
    "\n",
    "- Summing a list of numbers\n",
    "- Finding the product of elements\n",
    "- Merging or concatenating collections (like strings or lists)\n",
    "- Applying complex accumulation logic that involves multiple steps\n",
    "\n",
    "By abstracting the loop mechanics into a single function call, reduce can make your code more concise and expressive, focusing on what the computation is rather than how to perform it.\n",
    "\n",
    "## Importance of reduce\n",
    "\n",
    "Understanding `reduce` is a key step towards mastering functional programming paradigms in Python. It encourages a more declarative approach to coding, where you describe what you want to achieve rather than how to do it. This can lead to clearer, more maintainable code, especially when dealing with complex data transformations.\n",
    "\n",
    "In the following sections, we'll provide practical examples, and discuss advanced usage scenarios. By the end of this notebook, you’ll have a solid grasp of how to leverage reduce to write efficient and elegant Python code.\n"
   ]
  },
  {
   "cell_type": "markdown",
   "id": "33373c8a-a3b0-415c-a5da-3f8955769e4f",
   "metadata": {},
   "source": [
    "Use functools module"
   ]
  },
  {
   "cell_type": "markdown",
   "id": "27e37551-d2f8-4348-8fdd-3cca4f1e58fe",
   "metadata": {},
   "source": [
    "## Factorial Example\n",
    "\n",
    "The factorial of a non-negative integer $n$ is the product of all positive integers less than or equal to $n$. It is denoted by $n!$. For example:\n",
    "- $5! = 5 \\cdot 4 \\cdot 3 \\cdot 2 \\cdot 1 = 120$\n",
    "- $3! = 3 \\cdot 2 \\cdot 1 = 6$\n",
    "- $0! = 1$ (by definition)\n",
    "\n",
    "To calculate the factorial of a number using `reduce`, we will:\n",
    "1. Define a function that multiplies two numbers.\n",
    "2. Use `reduce` to apply this multiplication function across a range of numbers from 1 to $n$.\n",
    "\n"
   ]
  },
  {
   "cell_type": "code",
   "execution_count": null,
   "id": "9e71963f-0589-4478-8609-bda124e16e43",
   "metadata": {},
   "outputs": [],
   "source": [
    "from functools import reduce"
   ]
  },
  {
   "cell_type": "code",
   "execution_count": null,
   "id": "82546076-5210-4454-9e66-ca7ea2f6e05d",
   "metadata": {},
   "outputs": [],
   "source": [
    "# Function to multiply two numbers\n",
    "def multiply(x, y):\n",
    "    # print(\"multiply: \",x,y)\n",
    "    return x * y"
   ]
  },
  {
   "cell_type": "code",
   "execution_count": null,
   "id": "a61f81e7-9360-4bbd-86b3-be4d0bf5435c",
   "metadata": {},
   "outputs": [],
   "source": [
    "# Function to calculate factorial using reduce\n",
    "def factorial(n):\n",
    "    # Special case for 0! which is defined as 1\n",
    "    if n == 0:\n",
    "        return 1\n",
    "    # Using reduce to calculate the factorial\n",
    "    return reduce(multiply, range(1, n + 1))\n"
   ]
  },
  {
   "cell_type": "markdown",
   "id": "d58859e4-de76-4eda-bf41-b05d3dea42af",
   "metadata": {},
   "source": [
    "Code Explanation:\n",
    "- Importing reduce: We import the reduce function from the functools module.\n",
    "- Defining multiply function: This function takes two arguments, $x$ and $y$, and returns their product.\n",
    "- Defining factorial function:\n",
    "    - For $n = 0$, we return $1$ since $0! = 1$ by definition.\n",
    "    - For other values of $n$, we use reduce to apply the multiply function across the range of numbers from $1$ to $n$. The range(1, n + 1) generates a sequence of numbers from $1$ to $n$, and reduce applies the multiply function cumulatively to this sequence.\n",
    " \n",
    "The calling sequence to multiply function:\n",
    "- multiply:  1 2\n",
    "- multiply:  2 3\n",
    "- multiply:  6 4\n",
    "- multiply:  24 5\n",
    "\n",
    "Example usage: We call the factorial function with different values of $n$ to demonstrate how it works."
   ]
  },
  {
   "cell_type": "code",
   "execution_count": null,
   "id": "d12ae77c-bed1-4ab6-824c-82c20594dd5b",
   "metadata": {},
   "outputs": [],
   "source": [
    "# Example usage\n",
    "print(factorial(5))  # Output: 120\n",
    "print(factorial(3))  # Output: 6\n",
    "print(factorial(0))  # Output: 1"
   ]
  },
  {
   "cell_type": "markdown",
   "id": "537182af-3f89-4893-8944-daaed27eaac7",
   "metadata": {},
   "source": [
    "## Using a function or `lambda`"
   ]
  },
  {
   "cell_type": "markdown",
   "id": "d2e5a13c-d215-40cc-b5e0-9b858863db4a",
   "metadata": {},
   "source": [
    "The factorial example uses a pre-defined function.  The function must take two argument, and return a value. The return value should have the same data type as the input argument. You can also use lambda function. "
   ]
  },
  {
   "cell_type": "code",
   "execution_count": null,
   "id": "33cc993c-0df7-41e2-9769-889d59c4f070",
   "metadata": {},
   "outputs": [],
   "source": [
    "n = 5\n",
    "reduce(lambda x,y: x*y, range(1, n+1))"
   ]
  },
  {
   "cell_type": "markdown",
   "id": "5bf9a508-dfc9-450a-85ad-cdf01a4aa413",
   "metadata": {},
   "source": [
    "### What is a Lambda?\n",
    "A lambda function in Python is a small anonymous function defined using the lambda keyword. Unlike regular functions defined with the def keyword, lambda functions are typically used for short, throwaway functions that are not meant to be reused elsewhere. They can take any number of arguments but have only one expression. The syntax for a lambda function is:\n",
    "\n",
    "```python\n",
    "lambda arguments: expression\n",
    "```\n",
    "Lambda functions are often used in conjunction with higher-order functions (functions that take other functions as arguments), such as map(), filter(), and reduce(), to provide simple operations in a concise manner.\n",
    "\n",
    "### How Lambda Functions Work\n",
    "A lambda function is created using the lambda keyword, followed by a list of arguments, a colon, and an expression. The expression is evaluated and returned when the lambda function is called. For example:\n",
    "\n",
    "```python\n",
    "# Lambda function to add two numbers\n",
    "add = lambda x, y: x + y\n",
    "\n",
    "# Using the lambda function\n",
    "result = add(2, 3)  # Output: 5\n",
    "```\n",
    "\n",
    "In this example, `lambda x, y: x + y` creates a function that takes two arguments, x and y, and returns their sum. This lambda function is then assigned to the variable add, which can be called like a regular function.\n",
    "\n",
    "\n"
   ]
  },
  {
   "cell_type": "markdown",
   "id": "3a8d78e0-00ea-4d67-a65e-3913d43f0a9a",
   "metadata": {},
   "source": [
    "### Examples"
   ]
  },
  {
   "cell_type": "markdown",
   "id": "1c99b3e3-a0b1-4312-ae9a-9f19c7cbd626",
   "metadata": {},
   "source": [
    "#### 1. Finding the longest string"
   ]
  },
  {
   "cell_type": "code",
   "execution_count": null,
   "id": "dbe2a5c8-0208-407e-99a5-dd381d668619",
   "metadata": {},
   "outputs": [],
   "source": [
    "strings = [\"apple\", \"banana\", \"cherry\", \"date\"]\n",
    "\n",
    "# Using reduce with a lambda function to find the longest string\n",
    "longest_string = reduce(lambda x, y: x if len(x) > len(y) else y, strings)\n",
    "print(longest_string)  # Output: \"banana\""
   ]
  },
  {
   "cell_type": "markdown",
   "id": "6b4ea1de-3e91-48a6-878c-2d78057bb039",
   "metadata": {},
   "source": [
    "#### 2. Calculating the Greatest Common Divisor (GCD) of a List of Numbers"
   ]
  },
  {
   "cell_type": "code",
   "execution_count": null,
   "id": "159a8e63-f9db-45ef-9073-74f96732ad19",
   "metadata": {},
   "outputs": [],
   "source": [
    "import math\n",
    "numbers = [48, 64, 16, 32]\n",
    "\n",
    "# Using reduce with a lambda function and math.gcd to find the GCD\n",
    "gcd_result = reduce(lambda x, y: math.gcd(x, y), numbers)\n",
    "print(gcd_result)  # Output: 16"
   ]
  },
  {
   "cell_type": "markdown",
   "id": "eecd9ef8-6263-4429-a94a-16c76f940b25",
   "metadata": {},
   "source": [
    "#### 3. Flattening a List of Lists\n"
   ]
  },
  {
   "cell_type": "code",
   "execution_count": null,
   "id": "e7dbbaa8-d651-4b65-a0a4-442805d6f532",
   "metadata": {},
   "outputs": [],
   "source": [
    "list_of_lists = [[1, 2], [3, 4], [5, 6], [7, 8]]\n",
    "\n",
    "# Using reduce with a lambda function to flatten a list of lists\n",
    "flattened_list = reduce(lambda x, y: x + y, list_of_lists)\n",
    "print(flattened_list)  # Output: [1, 2, 3, 4, 5, 6, 7, 8]"
   ]
  },
  {
   "cell_type": "markdown",
   "id": "04af7432-1042-4467-809e-60102123e07a",
   "metadata": {},
   "source": [
    "#### 4. Calculating the Maximum Value in a List of Dictionaries"
   ]
  },
  {
   "cell_type": "code",
   "execution_count": null,
   "id": "71e1fa40-0c2f-4652-b542-4a979bfa7a9f",
   "metadata": {},
   "outputs": [],
   "source": [
    "dicts = [\n",
    "    {\"name\": \"Alice\", \"score\": 88},\n",
    "    {\"name\": \"Bob\", \"score\": 92},\n",
    "    {\"name\": \"Charlie\", \"score\": 85}\n",
    "]\n",
    "\n",
    "# Using reduce with a lambda function to find the dictionary with the maximum score\n",
    "max_score_dict = reduce(lambda x, y: x if x[\"score\"] > y[\"score\"] else y, dicts)\n",
    "print(max_score_dict)  # Output: {'name': 'Bob', 'score': 92}"
   ]
  },
  {
   "cell_type": "markdown",
   "id": "92287677-12b8-494c-990c-8069233fdb56",
   "metadata": {},
   "source": [
    "## Using Python's `operator` Module with `reduce` \n",
    "\n",
    "### What is `operator` module\n",
    "\n",
    "Python's `operator` module provides a set of efficient functions corresponding to the intrinsic operators of Python. Using these functions with `reduce` can simplify and optimize many operations. Here, we will demonstrate how to use the `operator` module with `reduce` to perform various operations such as summing a list of numbers and finding the product of a list of numbers."
   ]
  },
  {
   "cell_type": "markdown",
   "id": "ff92efcc-6082-44e1-a86f-bf6751326faa",
   "metadata": {},
   "source": [
    "### Examples"
   ]
  },
  {
   "cell_type": "code",
   "execution_count": null,
   "id": "5e98cc62-c712-4c5b-bb3a-adb60ff907a6",
   "metadata": {},
   "outputs": [],
   "source": [
    "import operator"
   ]
  },
  {
   "cell_type": "code",
   "execution_count": null,
   "id": "f46e5297-fa6d-4e5c-b9ff-1e459cfe3de9",
   "metadata": {},
   "outputs": [],
   "source": [
    "# Example usage\n",
    "numbers = [1, 2, 3, 4, 5]"
   ]
  },
  {
   "cell_type": "markdown",
   "id": "6e7074b8-5397-42fb-9eed-853c352ab46d",
   "metadata": {},
   "source": [
    "#### 1. Sum"
   ]
  },
  {
   "cell_type": "code",
   "execution_count": null,
   "id": "bd87a4c7-3319-4d46-a0b6-7ec40ea0da4d",
   "metadata": {},
   "outputs": [],
   "source": [
    "# Function to sum a list of numbers using reduce and operator.add\n",
    "result = reduce(operator.add, numbers)\n",
    "result"
   ]
  },
  {
   "cell_type": "markdown",
   "id": "4ee6cf92-61c8-4df4-abe9-abf57d4406ce",
   "metadata": {},
   "source": [
    "#### 2. Product"
   ]
  },
  {
   "cell_type": "code",
   "execution_count": null,
   "id": "58adc9e8-f041-4155-94b1-bb94460924ef",
   "metadata": {},
   "outputs": [],
   "source": [
    "# Function to find the product of a list of numbers using reduce and operator.mul\n",
    "result = reduce(operator.mul, numbers)\n",
    "result"
   ]
  },
  {
   "cell_type": "markdown",
   "id": "8f7f3bc4-66a7-400c-85ac-1c65908ef347",
   "metadata": {},
   "source": [
    "You can see a list of methods you can use using `dir(operator)` or lookup the documentation. https://docs.python.org/3/library/operator.html"
   ]
  },
  {
   "cell_type": "markdown",
   "id": "c54acaa3-2e7d-43e6-a490-1906051427be",
   "metadata": {},
   "source": [
    "#### 3. Bitwise operation: XOR"
   ]
  },
  {
   "cell_type": "code",
   "execution_count": null,
   "id": "ede24fd0-0f91-4871-b2f7-125d6a22b979",
   "metadata": {},
   "outputs": [],
   "source": [
    "# xor of the list\n",
    "result = reduce(operator.xor, numbers)\n",
    "result"
   ]
  },
  {
   "cell_type": "markdown",
   "id": "e4dc82db-1fae-4b2a-b501-79990d0777b7",
   "metadata": {},
   "source": [
    "#### 4. Sum the squares of numbers\n"
   ]
  },
  {
   "cell_type": "code",
   "execution_count": null,
   "id": "26df664b-ff01-460e-8bb9-b57b37c8a33d",
   "metadata": {},
   "outputs": [],
   "source": [
    "sum_of_squares = reduce(lambda x, y: operator.add(x, y**2), numbers, 0)\n",
    "print(sum_of_squares) "
   ]
  },
  {
   "cell_type": "markdown",
   "id": "07fbd5ad-d0e1-444e-8c41-9eb541f4bd30",
   "metadata": {},
   "source": [
    "#### 5. Combining Dictionaries by Summing Common Keys"
   ]
  },
  {
   "cell_type": "code",
   "execution_count": null,
   "id": "0acd6d7c-b429-4f4f-8637-e13397e0dddd",
   "metadata": {},
   "outputs": [],
   "source": [
    "dicts = [{\"a\": 1, \"b\": 2}, {\"a\": 2, \"c\": 3}, {\"b\": 1, \"c\": 2}]\n",
    "\n",
    "# Using reduce with operator to combine dictionaries\n",
    "combined_dict = reduce(lambda x, y: {k: x.get(k, 0) + y.get(k, 0) for k in set(x) | set(y)}, dicts)\n",
    "print(combined_dict) "
   ]
  },
  {
   "cell_type": "markdown",
   "id": "3e78534d-5008-4e33-aff0-9521bd234493",
   "metadata": {},
   "source": [
    "#### 6.  Merging Lists into a Set"
   ]
  },
  {
   "cell_type": "code",
   "execution_count": null,
   "id": "4e692e06-4875-4677-bfc5-b4eb0938c046",
   "metadata": {},
   "outputs": [],
   "source": [
    "lists = [[1, 2], [2, 3], [3, 4]]\n",
    "\n",
    "# Using reduce with operator to merge lists into a set\n",
    "unique_elements = reduce(lambda x, y: operator.or_(set(x), set(y)), lists)\n",
    "print(unique_elements)  # Output: {1, 2, 3, 4}"
   ]
  },
  {
   "cell_type": "code",
   "execution_count": null,
   "id": "cfa4d349-837b-4d94-9fc3-c614fc86c346",
   "metadata": {},
   "outputs": [],
   "source": []
  }
 ],
 "metadata": {
  "kernelspec": {
   "display_name": "Python 3 (ipykernel)",
   "language": "python",
   "name": "python3"
  },
  "language_info": {
   "codemirror_mode": {
    "name": "ipython",
    "version": 3
   },
   "file_extension": ".py",
   "mimetype": "text/x-python",
   "name": "python",
   "nbconvert_exporter": "python",
   "pygments_lexer": "ipython3",
   "version": "3.10.13"
  }
 },
 "nbformat": 4,
 "nbformat_minor": 5
}
