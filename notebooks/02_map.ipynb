{
 "cells": [
  {
   "cell_type": "markdown",
   "id": "f5665341",
   "metadata": {},
   "source": [
    "\n",
    "# Introduction\n",
    "\n",
    "### Overview of `map`\n",
    "\n",
    "The `map` function in Python is a built-in function used to apply a given function to all items in an input list (or any other iterable). The result is a map object (an iterator) containing the results. The basic syntax of `map` is:\n",
    "\n",
    "```python\n",
    "map(function, iterable, ...)\n",
    "```\n",
    "\n",
    "Where `function` is the function to apply to each element of the iterable(s), and `iterable` is the input iterable(s).\n",
    "\n",
    "### Importance of `map`\n",
    "\n",
    "The `map` function is particularly useful for applying transformations to data, such as converting all elements in a list to another type, performing arithmetic operations, or any other function that needs to be applied to each element of an iterable.\n"
   ]
  },
  {
   "cell_type": "markdown",
   "id": "3ff7d561",
   "metadata": {},
   "source": [
    "\n",
    "### How to Use `map`\n",
    "\n",
    "#### Basic Usage\n",
    "\n",
    "1. **Single Iterable**: Applying a function to each item in a single iterable.\n",
    "\n",
    "```python\n",
    "numbers = [1, 2, 3, 4, 5]\n",
    "squared = map(lambda x: x ** 2, numbers)\n",
    "print(list(squared))  # Output: [1, 4, 9, 16, 25]\n",
    "```\n",
    "\n",
    "2. **Multiple Iterables**: Applying a function to corresponding items in multiple iterables.\n",
    "\n",
    "```python\n",
    "a = [1, 2, 3]\n",
    "b = [4, 5, 6]\n",
    "summed = map(lambda x, y: x + y, a, b)\n",
    "print(list(summed))  # Output: [5, 7, 9]\n",
    "```\n"
   ]
  },
  {
   "cell_type": "markdown",
   "id": "274f06b0-5d2c-4ea8-a340-1ab369edfe17",
   "metadata": {},
   "source": [
    "### Practical Examples\n",
    "\n",
    "#### Example 1: Converting Strings to Uppercase\n",
    "\n",
    "\n",
    "Using `map` to convert a list of strings to uppercase."
   ]
  },
  {
   "cell_type": "code",
   "execution_count": null,
   "id": "17271d0f-e31f-4ada-a572-f06d57caea9e",
   "metadata": {},
   "outputs": [],
   "source": [
    "strings = [\"hello\", \"world\", \"python\"]\n",
    "uppercase_strings = map(str.upper, strings)\n",
    "print(list(uppercase_strings))  # Output: ['HELLO', 'WORLD', 'PYTHON']"
   ]
  },
  {
   "cell_type": "markdown",
   "id": "b4c07df0-2e83-403e-a0a7-c5a88d95cf23",
   "metadata": {},
   "source": [
    "#### Example 2: Squaring Numbers\n",
    "\n",
    "Using `map` to square each number in a list."
   ]
  },
  {
   "cell_type": "code",
   "execution_count": null,
   "id": "b347035e-d310-42f1-8a28-b326a3969669",
   "metadata": {},
   "outputs": [],
   "source": [
    "numbers = [1, 2, 3, 4, 5]\n",
    "squared_numbers = map(lambda x: x ** 2, numbers)\n",
    "print(list(squared_numbers))  # Output: [1, 4, 9, 16, 25]"
   ]
  },
  {
   "cell_type": "markdown",
   "id": "cc8eaaae-d0c6-4db5-8c42-c3c39150812d",
   "metadata": {},
   "source": [
    "\n",
    "#### Example 3: Converting Strings to Integers\n",
    "\n",
    "Using `map` to convert a list of strings to integers."
   ]
  },
  {
   "cell_type": "code",
   "execution_count": null,
   "id": "daae6e73-2f98-4821-9d8e-7ffdaf025cf0",
   "metadata": {},
   "outputs": [],
   "source": [
    "string_numbers = [\"1\", \"2\", \"3\"]\n",
    "integers = map(int, string_numbers)\n",
    "print(list(integers))  # Output: [1, 2, 3]"
   ]
  },
  {
   "cell_type": "markdown",
   "id": "fc091e6c-23f1-4e27-8270-df12924b31a9",
   "metadata": {},
   "source": [
    "#### Example 4: Combining First and Last Names\n",
    "\n",
    "Using `map` to concatenate first and last names from two lists."
   ]
  },
  {
   "cell_type": "code",
   "execution_count": null,
   "id": "a780cb89-1de9-4477-b522-1d6af1b8b498",
   "metadata": {},
   "outputs": [],
   "source": [
    "first_names = [\"John\", \"Jane\", \"Doe\"]\n",
    "last_names = [\"Doe\", \"Smith\", \"Johnson\"]\n",
    "full_names = map(lambda first, last: first + \" \" + last, first_names, last_names)\n",
    "print(list(full_names))  # Output: ['John Doe', 'Jane Smith', 'Doe Johnson']"
   ]
  },
  {
   "cell_type": "markdown",
   "id": "3a5707ef-761e-46e2-b174-ba64402940d9",
   "metadata": {},
   "source": [
    "\n",
    "#### Example 5: Applying a Custom Function to a List\n",
    "\n",
    "Define a custom function and use `map` to apply it to a list."
   ]
  },
  {
   "cell_type": "code",
   "execution_count": null,
   "id": "4637a4e5-06bd-4084-8e1b-e520d25672dc",
   "metadata": {},
   "outputs": [],
   "source": [
    "def add_ten(x):\n",
    "    return x + 10\n",
    "\n",
    "numbers = [1, 2, 3, 4, 5]\n",
    "added_ten = map(add_ten, numbers)\n",
    "print(list(added_ten))  # Output: [11, 12, 13, 14, 15]"
   ]
  },
  {
   "cell_type": "markdown",
   "id": "ba35da75-ddab-4320-bd88-a50d45ba72c5",
   "metadata": {},
   "source": [
    "#### Example 6: Applying Multiple Functions\n",
    "\n",
    "Using `map` with a list of functions to apply each function to the same input."
   ]
  },
  {
   "cell_type": "code",
   "execution_count": null,
   "id": "043d5bc0-8f69-459a-aba5-24faaa46a345",
   "metadata": {},
   "outputs": [],
   "source": [
    "\n",
    "def add_five(x):\n",
    "    return x + 5\n",
    "\n",
    "def multiply_by_two(x):\n",
    "    return x * 2\n",
    "\n",
    "functions = [add_five, multiply_by_two]\n",
    "number = 10\n",
    "results = map(lambda func: func(number), functions)\n",
    "print(list(results))  # Output: [15, 20]\n",
    "\n"
   ]
  },
  {
   "cell_type": "markdown",
   "id": "21537ec9-159c-45ef-b03a-45498a1573ce",
   "metadata": {},
   "source": [
    "### Comparing `map` with List Comprehension\n",
    "\n",
    "Both `map` and list comprehensions are used to apply a function to each item in an iterable and generate a new list based on the results. While they serve similar purposes, they have different syntaxes and characteristics. Below is a detailed comparison of the two.\n",
    "\n",
    "Syntax:\n",
    "\n",
    "1. **`map` Function**:\n",
    "   - The `map` function takes a function and one or more iterables as arguments. It applies the function to each item of the iterable(s) and returns an iterator.\n",
    "\n",
    "   ```python\n",
    "   map(function, iterable)\n",
    "   ```\n",
    "1. List Comprehension:\n",
    "\n",
    "    - List comprehension provides a concise way to create lists. It consists of brackets containing an expression followed by a for clause.\n",
    "\n",
    "    ```python\n",
    "    [expression for item in iterable]\n",
    "    ```\n",
    "\n",
    "   "
   ]
  },
  {
   "cell_type": "code",
   "execution_count": null,
   "id": "6d7ea08e-b6d4-4abb-9487-b61623b59c7c",
   "metadata": {},
   "outputs": [],
   "source": [
    "numbers = [1, 2, 3, 4, 5]\n",
    "squared = [x ** 2 for x in numbers]\n",
    "print(squared)  # Output: [1, 4, 9, 16, 25]\n"
   ]
  },
  {
   "cell_type": "markdown",
   "id": "7ed1152e",
   "metadata": {},
   "source": [
    "\n",
    "### Summary\n",
    "\n",
    "In this tutorial, we introduced the `map` function, explained its usage, and provided some practical examples to demonstrate its versatility. The `map` function is a powerful tool for applying a function to every item in an iterable, and when combined with lambda functions or custom-defined functions, it can handle a wide range of data transformation tasks efficiently.\n",
    "\n",
    "\n",
    "### Additional Resources\n",
    "\n",
    "- [Python `map` Function Documentation](https://docs.python.org/3/library/functions.html#map)\n",
    "- [Lambda Expressions in Python](https://docs.python.org/3/tutorial/controlflow.html#lambda-expressions)\n"
   ]
  }
 ],
 "metadata": {
  "kernelspec": {
   "display_name": "Python 3 (ipykernel)",
   "language": "python",
   "name": "python3"
  },
  "language_info": {
   "codemirror_mode": {
    "name": "ipython",
    "version": 3
   },
   "file_extension": ".py",
   "mimetype": "text/x-python",
   "name": "python",
   "nbconvert_exporter": "python",
   "pygments_lexer": "ipython3",
   "version": "3.10.13"
  }
 },
 "nbformat": 4,
 "nbformat_minor": 5
}
