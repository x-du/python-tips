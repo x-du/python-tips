{
 "cells": [
  {
   "cell_type": "markdown",
   "id": "9152ede7-4fea-4003-b3a2-6dd793df0600",
   "metadata": {},
   "source": [
    "## Using `all` and `any` in Python\n",
    "\n",
    "### Overview\n",
    "\n",
    "The `all` and `any` functions in Python are built-in functions that are used to test whether all or any elements in an iterable are true, respectively. These functions are particularly useful for working with lists, tuples, sets, and other iterables to perform logical checks efficiently.\n",
    "\n",
    "### `all` Function\n",
    "\n",
    "The `all` function returns `True` if all elements in the given iterable are true (or if the iterable is empty). The syntax for `all` is:\n",
    "\n",
    "```python\n",
    "all(iterable)\n",
    "```\n",
    "### `any` Function\n",
    "\n",
    "The `any` function returns True if any element in the given iterable is true. If the iterable is empty, any returns False. The syntax for any is:\n",
    "\n",
    "```python\n",
    "any(iterable)\n",
    "```"
   ]
  },
  {
   "cell_type": "markdown",
   "id": "16c50336-2c16-4a87-893a-d12fea0a7ca8",
   "metadata": {},
   "source": [
    "## Examples"
   ]
  },
  {
   "cell_type": "markdown",
   "id": "1efb5f6c-e395-454b-9a99-d75a15e4a89d",
   "metadata": {},
   "source": [
    "### Check for Prime Numbers\n",
    "Using all to check if a number is prime. "
   ]
  },
  {
   "cell_type": "code",
   "execution_count": null,
   "id": "79041b38-1acb-45ee-ad88-3e9dd56ceb4f",
   "metadata": {},
   "outputs": [],
   "source": [
    "def is_prime(n):\n",
    "    if n <= 1:\n",
    "        return False\n",
    "    return all(n % i != 0 for i in range(2, int(n ** 0.5) + 1))\n",
    "\n",
    "print(is_prime(7))  # Output: True\n",
    "print(is_prime(10))  # Output: False\n"
   ]
  },
  {
   "cell_type": "markdown",
   "id": "36a60959-a54d-401b-82c4-c5e393afcdce",
   "metadata": {},
   "source": [
    "In this example, the parameter is a generator."
   ]
  },
  {
   "cell_type": "markdown",
   "id": "d31fb24e-4cae-4587-a085-bfa9f8813d88",
   "metadata": {},
   "source": [
    "### Check for Substring in List\n",
    "Using any to check if any string in a list contains a substring."
   ]
  },
  {
   "cell_type": "code",
   "execution_count": null,
   "id": "c6370164-fcd9-49b8-af7f-a3dfacc00500",
   "metadata": {},
   "outputs": [],
   "source": [
    "strings = [\"apple\", \"banana\", \"cherry\"]\n",
    "substring = \"an\"\n",
    "result = any(substring in s for s in strings)\n",
    "print(result)  # Output: True\n"
   ]
  },
  {
   "cell_type": "markdown",
   "id": "bc8a3df0-1964-4c03-b954-aab1b0dc5b8a",
   "metadata": {},
   "source": [
    "### Additional Resources\n",
    "\n",
    "- [Python `all` Function Documentation](https://docs.python.org/3/library/functions.html#all)\n",
    "- [Python `any` Function Documentation](https://docs.python.org/3/library/functions.html#any)\n"
   ]
  },
  {
   "cell_type": "code",
   "execution_count": null,
   "id": "a682c062-4422-46a0-bfa1-d1a45d6ebc2b",
   "metadata": {},
   "outputs": [],
   "source": []
  }
 ],
 "metadata": {
  "kernelspec": {
   "display_name": "Python 3 (ipykernel)",
   "language": "python",
   "name": "python3"
  },
  "language_info": {
   "codemirror_mode": {
    "name": "ipython",
    "version": 3
   },
   "file_extension": ".py",
   "mimetype": "text/x-python",
   "name": "python",
   "nbconvert_exporter": "python",
   "pygments_lexer": "ipython3",
   "version": "3.10.13"
  }
 },
 "nbformat": 4,
 "nbformat_minor": 5
}
